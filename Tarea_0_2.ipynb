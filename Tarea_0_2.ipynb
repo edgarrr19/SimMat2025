{
  "nbformat": 4,
  "nbformat_minor": 0,
  "metadata": {
    "colab": {
      "provenance": [],
      "authorship_tag": "ABX9TyMV/vsCaMy7pMEhDNGm/b0S",
      "include_colab_link": true
    },
    "kernelspec": {
      "name": "python3",
      "display_name": "Python 3"
    },
    "language_info": {
      "name": "python"
    }
  },
  "cells": [
    {
      "cell_type": "markdown",
      "metadata": {
        "id": "view-in-github",
        "colab_type": "text"
      },
      "source": [
        "<a href=\"https://colab.research.google.com/github/edgarrr19/SimMat2025/blob/main/Tarea_0_2.ipynb\" target=\"_parent\"><img src=\"https://colab.research.google.com/assets/colab-badge.svg\" alt=\"Open In Colab\"/></a>"
      ]
    },
    {
      "cell_type": "markdown",
      "source": [
        "Crear un Notebook donde se defina una función en Python que, dando como argumento un valor numérico, regrese todos los primos menores que éste."
      ],
      "metadata": {
        "id": "6xFCRrbTpmPG"
      }
    },
    {
      "cell_type": "code",
      "source": [
        "import numpy as np"
      ],
      "metadata": {
        "id": "PG88ip8Ipi7Q"
      },
      "execution_count": null,
      "outputs": []
    },
    {
      "cell_type": "code",
      "execution_count": null,
      "metadata": {
        "colab": {
          "base_uri": "https://localhost:8080/"
        },
        "id": "YrM76QG8pKMp",
        "outputId": "d4a2ec4c-bb09-406d-82dd-77f5684560ef"
      },
      "outputs": [
        {
          "name": "stdout",
          "output_type": "stream",
          "text": [
            "Ingrese un número: 50\n"
          ]
        },
        {
          "output_type": "execute_result",
          "data": {
            "text/plain": [
              "[2, 3, 5, 7, 11, 13, 17, 19, 23, 29, 31, 37, 41, 43, 47]"
            ]
          },
          "metadata": {},
          "execution_count": 4
        }
      ],
      "source": [
        "n=int(input('Ingrese un número: '))\n",
        "primos=[]\n",
        "for i in range(2,n):\n",
        "    divisibles=(i%np.arange(2,i))==0\n",
        "    if divisibles.any()==False:\n",
        "        primos.append(i)\n",
        "primos"
      ]
    },
    {
      "cell_type": "markdown",
      "source": [
        "Pida a su generador de IA de confianza que optimice el código. Compare éste con su código y escriba en celdas de Markdown si aceptaría o no las modificaciones y por qué."
      ],
      "metadata": {
        "id": "pqPernuMptf5"
      }
    },
    {
      "cell_type": "code",
      "source": [
        "import math\n",
        "\n",
        "n = int(input(\"Ingrese un número: \"))\n",
        "primos = []\n",
        "\n",
        "for i in range(2, n):\n",
        "    es_primo = True\n",
        "    for j in range(2, int(math.sqrt(i)) + 1):\n",
        "        if i % j == 0:\n",
        "            es_primo = False\n",
        "            break\n",
        "    if es_primo:\n",
        "        primos.append(i)\n",
        "\n",
        "primos\n",
        "#🚀 Mejoras: En lugar de probar todos los números hasta i−1, solo se revisan divisores hasta sqrt(i)\n",
        "#Se usa un break en cuanto se encuentra un divisor → evita trabajo extra.\n",
        "#Ya no se usa numpy porque no da ventaja aquí."
      ],
      "metadata": {
        "colab": {
          "base_uri": "https://localhost:8080/"
        },
        "id": "BeM9bLS0pzP6",
        "outputId": "a2ef1103-bad2-4647-a1eb-2b0990bb49cf"
      },
      "execution_count": null,
      "outputs": [
        {
          "name": "stdout",
          "output_type": "stream",
          "text": [
            "Ingrese un número: 50\n"
          ]
        },
        {
          "output_type": "execute_result",
          "data": {
            "text/plain": [
              "[2, 3, 5, 7, 11, 13, 17, 19, 23, 29, 31, 37, 41, 43, 47]"
            ]
          },
          "metadata": {},
          "execution_count": 5
        }
      ]
    },
    {
      "cell_type": "markdown",
      "source": [
        "Aunque mi código es más corto, al parecer al insertar un número grande, se crean arrays con demasiados elementos, lo cual lo hace más lento y pesado. El código que ChatGPT me proporcionó, me dice que a pesar de tener más líneas, evalua muchos menos valores que mi código y no crea arrays, haciendolo miles de veces más rápido cuando la variable 'n' crece. Si voy a evaluar un número grande de valores, sí me conivene usar el optimizado."
      ],
      "metadata": {
        "id": "qnqxdg02q-cn"
      }
    }
  ]
}