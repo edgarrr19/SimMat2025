{
  "nbformat": 4,
  "nbformat_minor": 0,
  "metadata": {
    "colab": {
      "provenance": [],
      "authorship_tag": "ABX9TyP3vPJWCqufZMTYwxn/j5Sn",
      "include_colab_link": true
    },
    "kernelspec": {
      "name": "python3",
      "display_name": "Python 3"
    },
    "language_info": {
      "name": "python"
    }
  },
  "cells": [
    {
      "cell_type": "markdown",
      "metadata": {
        "id": "view-in-github",
        "colab_type": "text"
      },
      "source": [
        "<a href=\"https://colab.research.google.com/github/edgarrr19/SimMat2025/blob/main/Tarea0_1.ipynb\" target=\"_parent\"><img src=\"https://colab.research.google.com/assets/colab-badge.svg\" alt=\"Open In Colab\"/></a>"
      ]
    },
    {
      "cell_type": "markdown",
      "source": [
        "#**Tarea 0.1**\n",
        "## Presentación\n",
        "Edgar Arturo Estrada Guerrero\n",
        "\n",
        "Ingenieria en Nanotecnología\n",
        "\n",
        "Séptimo Semestre\n",
        "## Resumen\n",
        "**Descubren una nueva luna de Urano de apenas 10 kilómetros de ancho**\n",
        "\n",
        "Latinus 19/08/2025\n",
        "\n",
        "La NASA detectó una luna pequeña que orbita Urano, de 10 km de ancho. Esta fue detectada por la cámara de infrarrojo del telescopio espacial James Webb en febrero.\n",
        "Urano ahora cuenta con 29 lunas conocidas y el descubrimiento sugiere que existan más lunas diminutas por descubrir."
      ],
      "metadata": {
        "id": "BqwJrW8zVJDs"
      }
    }
  ]
}