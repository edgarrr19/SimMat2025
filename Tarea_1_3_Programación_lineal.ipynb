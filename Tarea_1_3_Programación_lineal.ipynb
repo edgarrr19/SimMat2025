{
  "cells": [
    {
      "cell_type": "markdown",
      "metadata": {
        "id": "view-in-github",
        "colab_type": "text"
      },
      "source": [
        "<a href=\"https://colab.research.google.com/github/edgarrr19/SimMat2025/blob/main/Tarea_1_3_Programaci%C3%B3n_lineal.ipynb\" target=\"_parent\"><img src=\"https://colab.research.google.com/assets/colab-badge.svg\" alt=\"Open In Colab\"/></a>"
      ]
    },
    {
      "cell_type": "markdown",
      "metadata": {
        "id": "pww7RdWv8Nps"
      },
      "source": [
        "# Tarea - Programación lineal"
      ]
    },
    {
      "cell_type": "markdown",
      "metadata": {
        "id": "oXz3iKl18Np0"
      },
      "source": [
        "### Diseño de la Dieta Óptima\n",
        "\n",
        "Se quiere producir comida para gatos de la manera más barata, no obstante se debe también asegurar que se cumplan los datos requeridos de analisis nutricional. Por lo que se quiere variar la cantidad de cada ingrediente para cumplir con los estandares nutricionales. Los requisitos que se tienen es que en $100$ gramos, se deben tener **por lo menos** $8$ gramos de proteína y $6$ gramos de grasa. Así mismo, no se debe tener más de $2$ gramos de fibra y $0.4$ gramos de sal.  \n",
        "\n",
        "Los datos nutricionales se pueden obtener de la siguiente tabla:\n",
        "\n",
        "Ingrediente|Proteína|Grasa|Fibra|Sal\n",
        ":----|----|----|----|----\n",
        "Pollo|  10.0%|08.0%|00.1%|00.2%\n",
        "Carne|  20.0%|10.0%|00.5%|00.5%\n",
        "Cordero|15.0%|11.0%|00.5%|00.7%\n",
        "Arroz|  00.0%|01.0%|10.0%|00.2%\n",
        "Trigo|  04.0%|01.0%|15.0%|00.8%\n",
        "Gel|    00.0%|00.0%|00.0%|00.0%\n",
        "\n",
        "Los costos de cada producto son:\n",
        "\n",
        "Ingrediente|Costo por gramo\n",
        ":----|----\n",
        "Pollo|$\\$$0.013\n",
        "Carne|$\\$$0.008\n",
        "Cordero|$\\$$0.010\n",
        "Arroz|$\\$$0.002\n",
        "Trigo|$\\$$0.005\n",
        "Gel|$\\$$0.001    \n",
        "\n",
        "Lo que se busca optimizar en este caso es la cantidad de productos que se debe utilizar en la comida de gato, minimizando el costo total. Para simplificar la notación use las siguientes variables:\n",
        "\n",
        "+ $x_1:$ Gramos de pollo  \n",
        "+ $x_2:$ Gramos de carne  \n",
        "+ $x_3:$ Gramos de cordero  \n",
        "+ $x_4:$ Gramos de arroz  \n",
        "+ $x_5:$ Gramos de trigo  \n",
        "+ $x_6:$ Gramos de gel\n",
        "\n",
        "La tarea consiste en plantear el problemade programación lineal que permita satisfacer las necesidades alimenticias del gato al tiempo que minimice el costo total y resolverlo con `linprog`."
      ]
    },
    {
      "cell_type": "code",
      "execution_count": 1,
      "metadata": {
        "id": "vn27-3Vu8Np2"
      },
      "outputs": [],
      "source": [
        "import scipy.optimize as opt\n",
        "import numpy as np\n",
        "import sympy as sym"
      ]
    },
    {
      "cell_type": "markdown",
      "source": [
        "Optimización:\n",
        "$$\n",
        "\\min_{x_1-x_6}(0.013x_1+0.008x_2+0.01x_3+0.002x_4+0.005x_5+0.001x_6),\n",
        "$$\n",
        "\n",
        "Restricciones:\n",
        "En $100$ gramos, se deben tener **por lo menos** $8$ gramos de proteína y $6$ gramos de grasa. Así mismo, no se debe tener más de $2$ gramos de fibra y $0.4$ gramos de sal.  \n",
        "\n",
        "* $x_1+x_2+x_3+x_4+x_5+x_6=100$ gramos totales\n",
        "* $0.10x_1+0.20x_2+0.15x_3+0.04x_5\\geq8=-0.10x_1-0.20x_2-0.15x_3-0.04x_5\\leq-8$ gramos de proteína\n",
        "* $0.08x_1+0.10x_2+0.11x_3+0.01x_4+0.01x_5\\geq6=-0.08x_1-0.10x_2-0.11x_3-0.01x_4-0.01x_5\\leq-6$ gramos de grasa\n",
        "* $0.001x_1+0.005x_2+0.005x_3+0.10x_4+0.15x_5\\leq2$ gramos de fibra\n",
        "* $0.002x_1+0.005x_2+0.007x_3+0.002x_4+0.008x_5\\leq0.4$ gramos de sal\n"
      ],
      "metadata": {
        "id": "Y6SiSRPMDJvl"
      }
    },
    {
      "cell_type": "code",
      "source": [
        "c=np.array([0.013,0.008,0.010,0.002,0.005,0.001])\n",
        "A=np.array([[-1,-1,-1,-1,-1,-1],\n",
        "            [-0.10,-0.20,-0.15,0,-0.04,0],\n",
        "            [-0.08,-0.10,-0.11, -0.01,-0.01,0],\n",
        "            [0.001,0.005,0.005,0.10,0.15,0],\n",
        "            [0.002,0.005,0.007,0.002,0.008,0]])\n",
        "b=np.array([-100,-8,-6,2,0.4])\n",
        "opt.linprog(c,A,b)"
      ],
      "metadata": {
        "colab": {
          "base_uri": "https://localhost:8080/"
        },
        "id": "518zrVq-C32D",
        "outputId": "7158765a-f1c8-4a58-84d2-cf56aee450c7"
      },
      "execution_count": 4,
      "outputs": [
        {
          "output_type": "execute_result",
          "data": {
            "text/plain": [
              "        message: Optimization terminated successfully. (HiGHS Status 7: Optimal)\n",
              "        success: True\n",
              "         status: 0\n",
              "            fun: 0.52\n",
              "              x: [ 0.000e+00  6.000e+01  0.000e+00  0.000e+00  0.000e+00\n",
              "                   4.000e+01]\n",
              "            nit: 2\n",
              "          lower:  residual: [ 0.000e+00  6.000e+01  0.000e+00  0.000e+00\n",
              "                              0.000e+00  4.000e+01]\n",
              "                 marginals: [ 6.400e-03  0.000e+00  1.300e-03  3.000e-04\n",
              "                              3.300e-03  0.000e+00]\n",
              "          upper:  residual: [       inf        inf        inf        inf\n",
              "                                    inf        inf]\n",
              "                 marginals: [ 0.000e+00  0.000e+00  0.000e+00  0.000e+00\n",
              "                              0.000e+00  0.000e+00]\n",
              "          eqlin:  residual: []\n",
              "                 marginals: []\n",
              "        ineqlin:  residual: [ 0.000e+00  4.000e+00  0.000e+00  1.700e+00\n",
              "                              1.000e-01]\n",
              "                 marginals: [-1.000e-03 -0.000e+00 -7.000e-02 -0.000e+00\n",
              "                             -0.000e+00]\n",
              " mip_node_count: 0\n",
              " mip_dual_bound: 0.0\n",
              "        mip_gap: 0.0"
            ]
          },
          "metadata": {},
          "execution_count": 4
        }
      ]
    },
    {
      "cell_type": "markdown",
      "source": [
        "**Resultado**\n",
        "\n",
        "Se necesitan **60 g de carne** y **40 g de gel**:\n",
        "* 20% proteína = 12 g\n",
        "* 10% de grasa = 6 g\n",
        "* 0.5% de fibra = 0.30 g\n",
        "* 0.5% de sal = 0.30 g\n",
        "* El gel no aporta nada nutrimentalmente\n",
        "\n",
        "Con un precio de **$0.52** cada 100 gramos"
      ],
      "metadata": {
        "id": "lhzqJ_3NKW-O"
      }
    },
    {
      "cell_type": "markdown",
      "metadata": {
        "id": "Ht5khk3i8Np3"
      },
      "source": [
        "### Problema de distribución de energía eléctrica\n",
        "\n",
        "La Comisión Federal de Electricidad **(CFE)** dispone de cuatro plantas de generación para satisfacer la demanda diaria eléctrica en cuatro ciudades, Guadalajara, León y Morelia. Las plantas $1$, $2$ y $3$ pueden satisfacer $80$, $40$ y $60$ millones de KW al día respectivamente. Las necesidades de las ciudades de Guadalajara, León y Morelia son de $70$, $40$ y $70$ millones de Kw al día respectivamente.\n",
        "\n",
        "\n",
        "Los costos asociados al envío de suministro energético por cada millón de Kw entre cada planta y cada ciudad son los registrados en la siguiente tabla.\n",
        "\n",
        "-|Guadalajara|León|Morelia\n",
        ":----|----|----|----\n",
        "Planta 1|5|2|7\n",
        "Planta 2|3|6|6\n",
        "Planta 3|6|1|2\n",
        "\n",
        "Y por último, las restricciones del problema, van a estar dadas por las capacidades de oferta y demanda de cada planta (en millones de KW) y cada ciudad.\n",
        "\n",
        "Para simplificar la notación use las siguientes variables:\n",
        "\n",
        "+ $x_1$: Kw (en millones) distribuidos de la Planta 1 a Guadalajara\n",
        "+ $x_2$: Kw (en millones) distribuidos de la Planta 1 a León\n",
        "+ $x_3$: Kw (en millones) distribuidos de la Planta 1 a Morelia\n",
        "+ $x_4$: Kw (en millones) distribuidos de la Planta 2 a Guadalajara\n",
        "+ $x_5$: Kw (en millones) distribuidos de la Planta 2 a León\n",
        "+ $x_6$: Kw (en millones) distribuidos de la Planta 2 a Morelia\n",
        "+ $x_7$: Kw (en millones) distribuidos de la Planta 3 a Guadalajara\n",
        "+ $x_8$: Kw (en millones) distribuidos de la Planta 3 a León\n",
        "+ $x_9$: Kw (en millones) distribuidos de la Planta 3 a Morelia\n",
        "\n",
        "La tarea consiste en plantear el problema de programación lineal que permita satisfacer las necesidades de todas las ciudades al tiempo que minimice los costos asociados a la distribución y resolverlo con `linprog`."
      ]
    },
    {
      "cell_type": "markdown",
      "source": [
        "Optimización:\n",
        "$$\n",
        "\\min_{x_1-x_9}(5x_1+2x_2+7x_3+3x_4+6x_5+6x_6+6x_7+1x_8+2x_9),\n",
        "$$\n",
        "Restricciones:\n",
        "* $x_1+x_2+x_3\\leq80$ millones de kW se generan\n",
        "* $x_4+x_5+x_6\\leq40$ millones de kW\n",
        "* $x_7+x_8+x_9\\leq60$ millones de kW\n",
        "* $x_1+x_4+x_7\\geq70$ millones de kW se consumen\n",
        "* $x_2+x_5+x_8\\geq40$ millones de kW\n",
        "* $x_3+x_6+x_9\\geq70$ millones de kW"
      ],
      "metadata": {
        "id": "Sx_cI7IrM8wh"
      }
    },
    {
      "cell_type": "code",
      "source": [],
      "metadata": {
        "id": "EK_EBhkEM8QX"
      },
      "execution_count": null,
      "outputs": []
    },
    {
      "cell_type": "code",
      "execution_count": 5,
      "metadata": {
        "colab": {
          "base_uri": "https://localhost:8080/"
        },
        "id": "i5hXqkWC8Np5",
        "outputId": "2528f8c8-0b7d-4dc2-9a2b-f4025e4d1bb8"
      },
      "outputs": [
        {
          "output_type": "execute_result",
          "data": {
            "text/plain": [
              "        message: Optimization terminated successfully. (HiGHS Status 7: Optimal)\n",
              "        success: True\n",
              "         status: 0\n",
              "            fun: 540.0\n",
              "              x: [ 3.000e+01  4.000e+01  1.000e+01  4.000e+01  0.000e+00\n",
              "                   0.000e+00  0.000e+00  0.000e+00  6.000e+01]\n",
              "            nit: 6\n",
              "          lower:  residual: [ 3.000e+01  4.000e+01  1.000e+01  4.000e+01\n",
              "                              0.000e+00  0.000e+00  0.000e+00  0.000e+00\n",
              "                              6.000e+01]\n",
              "                 marginals: [ 0.000e+00  0.000e+00  0.000e+00  0.000e+00\n",
              "                              6.000e+00  1.000e+00  6.000e+00  4.000e+00\n",
              "                              0.000e+00]\n",
              "          upper:  residual: [       inf        inf        inf        inf\n",
              "                                    inf        inf        inf        inf\n",
              "                                    inf]\n",
              "                 marginals: [ 0.000e+00  0.000e+00  0.000e+00  0.000e+00\n",
              "                              0.000e+00  0.000e+00  0.000e+00  0.000e+00\n",
              "                              0.000e+00]\n",
              "          eqlin:  residual: []\n",
              "                 marginals: []\n",
              "        ineqlin:  residual: [ 0.000e+00  0.000e+00  0.000e+00  0.000e+00\n",
              "                              0.000e+00  0.000e+00]\n",
              "                 marginals: [-0.000e+00 -2.000e+00 -5.000e+00 -5.000e+00\n",
              "                             -2.000e+00 -7.000e+00]\n",
              " mip_node_count: 0\n",
              " mip_dual_bound: 0.0\n",
              "        mip_gap: 0.0"
            ]
          },
          "metadata": {},
          "execution_count": 5
        }
      ],
      "source": [
        "c=np.array([5,2,7,3,6,6,6,1,2])\n",
        "A=np.array([[1,1,1,0,0,0,0,0,0],\n",
        "            [0,0,0,1,1,1,0,0,0],\n",
        "            [0,0,0,0,0,0,1,1,1],\n",
        "            [-1,0,0,-1,0,0,-1,0,0],\n",
        "            [0,-1,0,0,-1,0,0,-1,0],\n",
        "            [0,0,-1,0,0,-1,0,0,-1]])\n",
        "b=np.array([80,40,60,-70,-40,-70])\n",
        "opt.linprog(c,A,b)"
      ]
    },
    {
      "cell_type": "markdown",
      "source": [
        "**Resultado**\n",
        "El precio mínimo es de **540** u.m.:\n",
        "+ 30 millones de Kw distribuidos de la Planta 1 a Guadalajara\n",
        "+ 40 millones de Kw distribuidos de la Planta 1 a León\n",
        "+ 10 millones de Kw distribuidos de la Planta 1 a Morelia\n",
        "+ 40 millones de Kw distribuidos de la Planta 2 a Guadalajara\n",
        "+ 60 millones de Kw distribuidos de la Planta 3 a Morelia"
      ],
      "metadata": {
        "id": "juFDE33DQNN1"
      }
    },
    {
      "cell_type": "markdown",
      "metadata": {
        "id": "oUh7QPs38Np6"
      },
      "source": [
        "### Fábrica de focos\n",
        "\n",
        "Una fábrica produce focos incandesentes y los vende a 4.5 u.m., además de focos ahorradores que vende a 6 u.m. cada uno. La producción está limitada a 400 focos incandesentes y 300 focos ahorradores al día, además de no poder producir más de 500 focos en total.\n",
        "\n",
        "Si la fábrica vende toda su producción, determina cuántos focos incandesentes y cuántos focos ahorradores debe producir para obtener los máximos ingresos posibles y cuáles serían éstos.\n",
        "\n",
        "* $x_1$: Focos incandesentes\n",
        "* $x_2$: Focos ahorradores\n"
      ]
    },
    {
      "cell_type": "markdown",
      "source": [
        "Optimización:\n",
        "$$\n",
        "\\min_{x_1,x_2}(4.5x_1+6x_2),\n",
        "$$\n",
        "Restricciones:\n",
        "* $x_1+x_2\\leq500$\n",
        "* $x_1\\leq400$\n",
        "* $x_2\\leq300$"
      ],
      "metadata": {
        "id": "3Y7J7oKRSKhA"
      }
    },
    {
      "cell_type": "code",
      "execution_count": 6,
      "metadata": {
        "colab": {
          "base_uri": "https://localhost:8080/"
        },
        "id": "hNkETHcD8Np7",
        "outputId": "f390109f-f0f7-41cd-e2d2-7f3be91c0ce6"
      },
      "outputs": [
        {
          "output_type": "execute_result",
          "data": {
            "text/plain": [
              "        message: Optimization terminated successfully. (HiGHS Status 7: Optimal)\n",
              "        success: True\n",
              "         status: 0\n",
              "            fun: -2700.0\n",
              "              x: [ 2.000e+02  3.000e+02]\n",
              "            nit: 1\n",
              "          lower:  residual: [ 2.000e+02  3.000e+02]\n",
              "                 marginals: [ 0.000e+00  0.000e+00]\n",
              "          upper:  residual: [       inf        inf]\n",
              "                 marginals: [ 0.000e+00  0.000e+00]\n",
              "          eqlin:  residual: []\n",
              "                 marginals: []\n",
              "        ineqlin:  residual: [ 0.000e+00  2.000e+02  0.000e+00]\n",
              "                 marginals: [-4.500e+00 -0.000e+00 -1.500e+00]\n",
              " mip_node_count: 0\n",
              " mip_dual_bound: 0.0\n",
              "        mip_gap: 0.0"
            ]
          },
          "metadata": {},
          "execution_count": 6
        }
      ],
      "source": [
        "c=np.array([-4.5,-6])\n",
        "A=np.array([[1,1],\n",
        "            [1,0],\n",
        "            [0,1]])\n",
        "b=np.array([500,400,300])\n",
        "opt.linprog(c,A,b)"
      ]
    },
    {
      "cell_type": "markdown",
      "source": [
        "**Resultado**\n",
        "\n",
        "La ganancia máxima será de **$2700.00** produciendo:\n",
        "* 200 focos incandesentes\n",
        "* 300 focos ahorradores"
      ],
      "metadata": {
        "id": "5RiF0AU7TFUp"
      }
    },
    {
      "cell_type": "markdown",
      "metadata": {
        "id": "zAyddggV8Np7"
      },
      "source": [
        "### Problema de compra al mayoreo\n",
        "Un frutero necesita 16 cajas de naranjas, 5 de plátanos y 20 de manzanas. Dos mayoristas pueden suministrarle para satisfacer sus necesidades, pero sólo venden la fruta en contenedores completos. El mayorista A envía en cada contenedor 8 cajas de naranjas, 1 de plátanos y 2 de manzanas. El mayorista B envía en cada contenedor 2 cajas de naranjas, una de plátanos y 7 de manzanas. Sabiendo que cada contenedor del mayorista A tiene un costo de 150 u.m. y el contenedor del mayorista B de 300 u.m., calcular cuántos contenedores habrá de comprar a cada mayorista, con objeto de reducir al mínimo el costo de lo solicitado.\n",
        "\n",
        "* $x_1$: naranjas A (cajas)\n",
        "* $x_2$: platanos A\n",
        "* $x_3$: manzanas A\n",
        "* $x_4$: naranjas B (cajas)\n",
        "* $x_5$: platanos B\n",
        "* $x_6$: manzanas B\n",
        "\n",
        "El frutero necesita $16x_{1,4}+5x_{2,5}+20x_{3,6}$"
      ]
    },
    {
      "cell_type": "markdown",
      "source": [
        "Optimización:\n",
        "$$\n",
        "\\min_{x_A,x_B}(150x_A+300x_B),\n",
        "$$\n",
        "Restricciones:\n",
        "* $8x_1+2x_4\\geq16$ naranjas\n",
        "* $x_2+x_5\\geq5$ platanos\n",
        "* $2x_3+7x_6\\geq20$ manzanas\n",
        "\n",
        "\n"
      ],
      "metadata": {
        "id": "yM6AoVZ6UK3a"
      }
    },
    {
      "cell_type": "code",
      "execution_count": 12,
      "metadata": {
        "colab": {
          "base_uri": "https://localhost:8080/"
        },
        "id": "TdC7sM6Y8Np8",
        "outputId": "401ba5c9-5ec5-4398-e522-f5d6232a7852"
      },
      "outputs": [
        {
          "output_type": "execute_result",
          "data": {
            "text/plain": [
              "        message: Optimization terminated successfully. (HiGHS Status 7: Optimal)\n",
              "        success: True\n",
              "         status: 0\n",
              "            fun: 1050.0\n",
              "              x: [ 3.000e+00  2.000e+00]\n",
              "            nit: 3\n",
              "          lower:  residual: [ 3.000e+00  2.000e+00]\n",
              "                 marginals: [ 0.000e+00  0.000e+00]\n",
              "          upper:  residual: [       inf        inf]\n",
              "                 marginals: [ 0.000e+00  0.000e+00]\n",
              "          eqlin:  residual: []\n",
              "                 marginals: []\n",
              "        ineqlin:  residual: [ 1.200e+01  0.000e+00  0.000e+00]\n",
              "                 marginals: [-0.000e+00 -9.000e+01 -3.000e+01]\n",
              " mip_node_count: 0\n",
              " mip_dual_bound: 0.0\n",
              "        mip_gap: 0.0"
            ]
          },
          "metadata": {},
          "execution_count": 12
        }
      ],
      "source": [
        "c = np.array([150, 300])\n",
        "A = np.array([[-8, -2],   # naranjas (A,B)\n",
        "              [-1, -1],   # plátanos\n",
        "              [-2, -7]])  # manzanas\n",
        "b = np.array([-16, -5, -20])\n",
        "opt.linprog(c,A,b)"
      ]
    },
    {
      "cell_type": "markdown",
      "source": [
        "**Resultado**\n",
        "\n",
        "Para cumplir la demanda mínima se necesitan:\n",
        "* **3** contenedores del proovedor **A**\n",
        "* **2** contenedores del proovedor **B**\n",
        "* Sobran **12** naranjas\n",
        "\n",
        "Teniendo un costo total de $1050 u.m."
      ],
      "metadata": {
        "id": "B1nmoTkzb4Oh"
      }
    }
  ],
  "metadata": {
    "kernelspec": {
      "display_name": "Python 3 (ipykernel)",
      "language": "python",
      "name": "python3"
    },
    "language_info": {
      "codemirror_mode": {
        "name": "ipython",
        "version": 3
      },
      "file_extension": ".py",
      "mimetype": "text/x-python",
      "name": "python",
      "nbconvert_exporter": "python",
      "pygments_lexer": "ipython3",
      "version": "3.9.12"
    },
    "colab": {
      "provenance": [],
      "include_colab_link": true
    }
  },
  "nbformat": 4,
  "nbformat_minor": 0
}