{
  "cells": [
    {
      "cell_type": "markdown",
      "metadata": {
        "id": "view-in-github",
        "colab_type": "text"
      },
      "source": [
        "<a href=\"https://colab.research.google.com/github/edgarrr19/SimMat2025/blob/main/Tarea_1_1_Optimizaci%C3%B3n_escalar_con_SymPy.ipynb\" target=\"_parent\"><img src=\"https://colab.research.google.com/assets/colab-badge.svg\" alt=\"Open In Colab\"/></a>"
      ]
    },
    {
      "cell_type": "markdown",
      "id": "dae16770",
      "metadata": {
        "id": "dae16770"
      },
      "source": [
        "# Optimización escalar con SymPy: criterio conocido"
      ]
    },
    {
      "cell_type": "markdown",
      "id": "09ba4558",
      "metadata": {
        "id": "09ba4558"
      },
      "source": [
        "Para la siguientes funciones encuentre los puntos críticos, grafique y diga si éste se trata de un máximo o mínimo, local o global."
      ]
    },
    {
      "cell_type": "markdown",
      "id": "3600ad24",
      "metadata": {
        "id": "3600ad24"
      },
      "source": [
        "1. $f(x)=x+\\frac{1}{x^2}$"
      ]
    },
    {
      "cell_type": "code",
      "source": [
        "import sympy as sym\n",
        "import numpy as np\n",
        "import matplotlib.pyplot as plt"
      ],
      "metadata": {
        "id": "By-C60XBlymL"
      },
      "id": "By-C60XBlymL",
      "execution_count": null,
      "outputs": []
    },
    {
      "cell_type": "code",
      "source": [
        "x=sym.var('x')\n",
        "def f(x):\n",
        "  return x+1/x**2"
      ],
      "metadata": {
        "id": "HK9mSPwUmK_B"
      },
      "id": "HK9mSPwUmK_B",
      "execution_count": null,
      "outputs": []
    },
    {
      "cell_type": "code",
      "source": [
        "f(x)"
      ],
      "metadata": {
        "colab": {
          "base_uri": "https://localhost:8080/",
          "height": 51
        },
        "id": "Adg4HrJnmabS",
        "outputId": "dd03ba48-57f7-48b5-fcf9-ff3c32b9e0d4"
      },
      "id": "Adg4HrJnmabS",
      "execution_count": null,
      "outputs": [
        {
          "output_type": "execute_result",
          "data": {
            "text/plain": [
              "x + x**(-2)"
            ],
            "text/latex": "$\\displaystyle x + \\frac{1}{x^{2}}$"
          },
          "metadata": {},
          "execution_count": 84
        }
      ]
    },
    {
      "cell_type": "code",
      "source": [
        "df=f(x).diff(x)\n",
        "df"
      ],
      "metadata": {
        "colab": {
          "base_uri": "https://localhost:8080/",
          "height": 51
        },
        "id": "FKgxV67ombXm",
        "outputId": "56331b9d-cddc-4a41-a518-16224584714c"
      },
      "id": "FKgxV67ombXm",
      "execution_count": null,
      "outputs": [
        {
          "output_type": "execute_result",
          "data": {
            "text/plain": [
              "1 - 2/x**3"
            ],
            "text/latex": "$\\displaystyle 1 - \\frac{2}{x^{3}}$"
          },
          "metadata": {},
          "execution_count": 85
        }
      ]
    },
    {
      "cell_type": "code",
      "source": [
        "c=sym.solve(df,x)\n",
        "c"
      ],
      "metadata": {
        "colab": {
          "base_uri": "https://localhost:8080/"
        },
        "id": "wFne_XX41LEj",
        "outputId": "dc23f73c-253a-4c17-ee5a-f12ddfde804e"
      },
      "id": "wFne_XX41LEj",
      "execution_count": null,
      "outputs": [
        {
          "output_type": "execute_result",
          "data": {
            "text/plain": [
              "[2**(1/3),\n",
              " -2**(1/3)/2 - 2**(1/3)*sqrt(3)*I/2,\n",
              " -2**(1/3)/2 + 2**(1/3)*sqrt(3)*I/2]"
            ]
          },
          "metadata": {},
          "execution_count": 86
        }
      ]
    },
    {
      "cell_type": "code",
      "source": [
        "x=sym.var('x',real=True) #Como nos da dos puntos críticos imaginarios y uno real, tomamos sólo el real\n",
        "def f(x):\n",
        "    return x+1/x**2\n",
        "df=f(x).diff(x)\n",
        "c=sym.solve(df,x)\n",
        "c"
      ],
      "metadata": {
        "colab": {
          "base_uri": "https://localhost:8080/"
        },
        "id": "M7XBWIoJopPE",
        "outputId": "b06a1cec-b7d2-4179-e0e9-85beffa4c417"
      },
      "id": "M7XBWIoJopPE",
      "execution_count": null,
      "outputs": [
        {
          "output_type": "execute_result",
          "data": {
            "text/plain": [
              "[2**(1/3)]"
            ]
          },
          "metadata": {},
          "execution_count": 87
        }
      ]
    },
    {
      "cell_type": "code",
      "source": [
        "x_num=np.linspace(1,1.5,100)\n",
        "plt.plot(x_num,f(x_num))\n",
        "plt.plot(c[0],f(c[0]),'rx', ms=10)\n",
        "plt.grid()"
      ],
      "metadata": {
        "colab": {
          "base_uri": "https://localhost:8080/",
          "height": 430
        },
        "id": "n7y07LKO1RTx",
        "outputId": "8304b78f-4eb5-4bdd-e646-311a75c88dbb"
      },
      "id": "n7y07LKO1RTx",
      "execution_count": null,
      "outputs": [
        {
          "output_type": "display_data",
          "data": {
            "text/plain": [
              "<Figure size 640x480 with 1 Axes>"
            ],
            "image/png": "[encoded data removed]"
          },
          "metadata": {}
        }
      ]
    },
    {
      "cell_type": "markdown",
      "source": [
        "**Resultado:** $2^{1/3}$ es un mínimo global"
      ],
      "metadata": {
        "id": "bpsl3D174U__"
      },
      "id": "bpsl3D174U__"
    },
    {
      "cell_type": "markdown",
      "id": "39cfc1dd",
      "metadata": {
        "id": "39cfc1dd"
      },
      "source": [
        "2. $f(x)=1260+117x-9x^2$"
      ]
    },
    {
      "cell_type": "code",
      "execution_count": null,
      "id": "75921cf8",
      "metadata": {
        "colab": {
          "base_uri": "https://localhost:8080/",
          "height": 39
        },
        "id": "75921cf8",
        "outputId": "424f5721-c9fc-4f7c-aadf-3bb1f24c9ea8"
      },
      "outputs": [
        {
          "output_type": "execute_result",
          "data": {
            "text/plain": [
              "117 - 18*x"
            ],
            "text/latex": "$\\displaystyle 117 - 18 x$"
          },
          "metadata": {},
          "execution_count": 91
        }
      ],
      "source": [
        "def f(x):\n",
        "  return 1260+117*x-9*x**2\n",
        "df=sym.diff(f(x))\n",
        "df"
      ]
    },
    {
      "cell_type": "code",
      "source": [
        "d2f=df.diff(x)\n",
        "d2f"
      ],
      "metadata": {
        "colab": {
          "base_uri": "https://localhost:8080/",
          "height": 37
        },
        "id": "8G6rJxbQskzt",
        "outputId": "45cf6a66-1943-46b5-a66b-930e054d0ba9"
      },
      "id": "8G6rJxbQskzt",
      "execution_count": null,
      "outputs": [
        {
          "output_type": "execute_result",
          "data": {
            "text/plain": [
              "-18"
            ],
            "text/latex": "$\\displaystyle -18$"
          },
          "metadata": {},
          "execution_count": 92
        }
      ]
    },
    {
      "cell_type": "markdown",
      "source": [
        "Por el criterio de la segunda derivada sabemos que es un máximo global"
      ],
      "metadata": {
        "id": "V9KbArkfs1z3"
      },
      "id": "V9KbArkfs1z3"
    },
    {
      "cell_type": "code",
      "source": [
        "c=sym.solve(df,x)\n",
        "c"
      ],
      "metadata": {
        "colab": {
          "base_uri": "https://localhost:8080/"
        },
        "id": "oyLTJrSIrue-",
        "outputId": "05830381-e51c-4841-9a96-3025a26ae0e7"
      },
      "id": "oyLTJrSIrue-",
      "execution_count": null,
      "outputs": [
        {
          "output_type": "execute_result",
          "data": {
            "text/plain": [
              "[13/2]"
            ]
          },
          "metadata": {},
          "execution_count": 94
        }
      ]
    },
    {
      "cell_type": "code",
      "source": [
        "x_num=np.linspace(0,13,100)\n",
        "y_num=f(x_num)\n",
        "plt.plot(x_num,y_num)\n",
        "plt.plot(c[0],f(c[0]),'rx',ms=10)\n",
        "plt.grid()"
      ],
      "metadata": {
        "colab": {
          "base_uri": "https://localhost:8080/",
          "height": 430
        },
        "id": "9zNoUFuSsI6H",
        "outputId": "550a3a23-a7bd-4d40-b561-4effc0bbc317"
      },
      "id": "9zNoUFuSsI6H",
      "execution_count": null,
      "outputs": [
        {
          "output_type": "display_data",
          "data": {
            "text/plain": [
              "<Figure size 640x480 with 1 Axes>"
            ],
            "image/png": "[encoded data removed]"
          },
          "metadata": {}
        }
      ]
    },
    {
      "cell_type": "markdown",
      "source": [
        "**Resultado:** $\\frac{13}{2}$ es un máximo global"
      ],
      "metadata": {
        "id": "r1AQK1CZ5DKO"
      },
      "id": "r1AQK1CZ5DKO"
    },
    {
      "cell_type": "markdown",
      "id": "65206d6e",
      "metadata": {
        "id": "65206d6e"
      },
      "source": [
        "3. $f(x)=5+x+\\frac{4}{x}$, para $x>0$"
      ]
    },
    {
      "cell_type": "code",
      "execution_count": null,
      "id": "bf7f119c",
      "metadata": {
        "colab": {
          "base_uri": "https://localhost:8080/",
          "height": 51
        },
        "id": "bf7f119c",
        "outputId": "7170594c-31a2-4706-ce8f-f58375bf2f79"
      },
      "outputs": [
        {
          "output_type": "execute_result",
          "data": {
            "text/plain": [
              "x + 5 + 4/x"
            ],
            "text/latex": "$\\displaystyle x + 5 + \\frac{4}{x}$"
          },
          "metadata": {},
          "execution_count": 101
        }
      ],
      "source": [
        "def f(x):\n",
        "  return 5+x+4/x\n",
        "f(x)"
      ]
    },
    {
      "cell_type": "code",
      "source": [
        "df=sym.diff(f(x))\n",
        "df"
      ],
      "metadata": {
        "colab": {
          "base_uri": "https://localhost:8080/",
          "height": 51
        },
        "id": "1lwnbLMWti-_",
        "outputId": "df73929a-e945-4eff-f45a-0b475f0c673c"
      },
      "id": "1lwnbLMWti-_",
      "execution_count": null,
      "outputs": [
        {
          "output_type": "execute_result",
          "data": {
            "text/plain": [
              "1 - 4/x**2"
            ],
            "text/latex": "$\\displaystyle 1 - \\frac{4}{x^{2}}$"
          },
          "metadata": {},
          "execution_count": 102
        }
      ]
    },
    {
      "cell_type": "code",
      "source": [
        "d2f=df.diff(x)\n",
        "d2f"
      ],
      "metadata": {
        "colab": {
          "base_uri": "https://localhost:8080/",
          "height": 51
        },
        "id": "ERTH9ZpctlGg",
        "outputId": "dc63488a-7149-49b5-82da-bb6ba78ae057"
      },
      "id": "ERTH9ZpctlGg",
      "execution_count": null,
      "outputs": [
        {
          "output_type": "execute_result",
          "data": {
            "text/plain": [
              "8/x**3"
            ],
            "text/latex": "$\\displaystyle \\frac{8}{x^{3}}$"
          },
          "metadata": {},
          "execution_count": 103
        }
      ]
    },
    {
      "cell_type": "code",
      "source": [
        "c=sym.solve(df,x)\n",
        "c"
      ],
      "metadata": {
        "colab": {
          "base_uri": "https://localhost:8080/"
        },
        "id": "qvr1JnQRtmjH",
        "outputId": "9d5a8360-b671-48f0-e3bd-ef6e6946b1fb"
      },
      "id": "qvr1JnQRtmjH",
      "execution_count": null,
      "outputs": [
        {
          "output_type": "execute_result",
          "data": {
            "text/plain": [
              "[-2, 2]"
            ]
          },
          "metadata": {},
          "execution_count": 104
        }
      ]
    },
    {
      "cell_type": "markdown",
      "source": [
        "De los puntos críticos, sólo nos importa el 2 porque está en el rango indicado."
      ],
      "metadata": {
        "id": "NqZ1P-t-ttTI"
      },
      "id": "NqZ1P-t-ttTI"
    },
    {
      "cell_type": "code",
      "source": [
        "x_num=np.linspace(1,3,100)\n",
        "y_num=f(x_num)\n",
        "plt.plot(x_num,y_num)\n",
        "plt.plot(c[1],f(c[1]),'rx',ms=10)\n",
        "plt.grid()"
      ],
      "metadata": {
        "colab": {
          "base_uri": "https://localhost:8080/",
          "height": 430
        },
        "id": "MGPK07PntpUL",
        "outputId": "31e5d572-c0b2-432c-d34a-4c9214289360"
      },
      "id": "MGPK07PntpUL",
      "execution_count": null,
      "outputs": [
        {
          "output_type": "display_data",
          "data": {
            "text/plain": [
              "<Figure size 640x480 with 1 Axes>"
            ],
            "image/png": "[encoded data removed]"
          },
          "metadata": {}
        }
      ]
    },
    {
      "cell_type": "markdown",
      "source": [
        "**Resultado:** Podemos observar que $2$ es un mínimo global cuando $x>0$"
      ],
      "metadata": {
        "id": "ZSUxe-UjuNe_"
      },
      "id": "ZSUxe-UjuNe_"
    },
    {
      "cell_type": "markdown",
      "id": "8fc86115",
      "metadata": {
        "id": "8fc86115"
      },
      "source": [
        "4. $f(x)=\\frac{15x}{2}\\sqrt{\\frac{x}{x-30}}$"
      ]
    },
    {
      "cell_type": "code",
      "execution_count": null,
      "id": "aaeb2835",
      "metadata": {
        "colab": {
          "base_uri": "https://localhost:8080/",
          "height": 56
        },
        "id": "aaeb2835",
        "outputId": "3cb03297-a467-44da-a75e-e79410577b31"
      },
      "outputs": [
        {
          "output_type": "execute_result",
          "data": {
            "text/plain": [
              "15*x*sqrt(x/(x - 30))/2"
            ],
            "text/latex": "$\\displaystyle \\frac{15 x \\sqrt{\\frac{x}{x - 30}}}{2}$"
          },
          "metadata": {},
          "execution_count": 109
        }
      ],
      "source": [
        "def f(x):\n",
        "  return 15*x/2*sym.sqrt(x/(x-30))\n",
        "f(x)"
      ]
    },
    {
      "cell_type": "code",
      "source": [
        "df=sym.diff(f(x))\n",
        "df"
      ],
      "metadata": {
        "colab": {
          "base_uri": "https://localhost:8080/",
          "height": 66
        },
        "id": "PNpmk7W9wt7n",
        "outputId": "f00df9cf-f9a7-4662-c8b5-0fcec9128029"
      },
      "id": "PNpmk7W9wt7n",
      "execution_count": null,
      "outputs": [
        {
          "output_type": "execute_result",
          "data": {
            "text/plain": [
              "15*sqrt(x/(x - 30))*(x - 30)*(-x/(2*(x - 30)**2) + 1/(2*(x - 30)))/2 + 15*sqrt(x/(x - 30))/2"
            ],
            "text/latex": "$\\displaystyle \\frac{15 \\sqrt{\\frac{x}{x - 30}} \\left(x - 30\\right) \\left(- \\frac{x}{2 \\left(x - 30\\right)^{2}} + \\frac{1}{2 \\left(x - 30\\right)}\\right)}{2} + \\frac{15 \\sqrt{\\frac{x}{x - 30}}}{2}$"
          },
          "metadata": {},
          "execution_count": 110
        }
      ]
    },
    {
      "cell_type": "code",
      "source": [
        "d2f=df.diff(x)\n",
        "d2f"
      ],
      "metadata": {
        "colab": {
          "base_uri": "https://localhost:8080/",
          "height": 118
        },
        "id": "19eFiMS6wy_m",
        "outputId": "42f3699f-b3ec-4cc8-8cf6-48ea26ee7eb7"
      },
      "id": "19eFiMS6wy_m",
      "execution_count": null,
      "outputs": [
        {
          "output_type": "execute_result",
          "data": {
            "text/plain": [
              "15*sqrt(x/(x - 30))*(x - 30)*(x/(x - 30)**3 - 1/(x - 30)**2)/2 + 15*sqrt(x/(x - 30))*(-x/(2*(x - 30)**2) + 1/(2*(x - 30)))/2 + 15*sqrt(x/(x - 30))*(x - 30)**2*(-x/(2*(x - 30)**2) + 1/(2*(x - 30)))**2/(2*x) + 15*sqrt(x/(x - 30))*(x - 30)*(-x/(2*(x - 30)**2) + 1/(2*(x - 30)))/(2*x)"
            ],
            "text/latex": "$\\displaystyle \\frac{15 \\sqrt{\\frac{x}{x - 30}} \\left(x - 30\\right) \\left(\\frac{x}{\\left(x - 30\\right)^{3}} - \\frac{1}{\\left(x - 30\\right)^{2}}\\right)}{2} + \\frac{15 \\sqrt{\\frac{x}{x - 30}} \\left(- \\frac{x}{2 \\left(x - 30\\right)^{2}} + \\frac{1}{2 \\left(x - 30\\right)}\\right)}{2} + \\frac{15 \\sqrt{\\frac{x}{x - 30}} \\left(x - 30\\right)^{2} \\left(- \\frac{x}{2 \\left(x - 30\\right)^{2}} + \\frac{1}{2 \\left(x - 30\\right)}\\right)^{2}}{2 x} + \\frac{15 \\sqrt{\\frac{x}{x - 30}} \\left(x - 30\\right) \\left(- \\frac{x}{2 \\left(x - 30\\right)^{2}} + \\frac{1}{2 \\left(x - 30\\right)}\\right)}{2 x}$"
          },
          "metadata": {},
          "execution_count": 111
        }
      ]
    },
    {
      "cell_type": "code",
      "source": [
        "c=sym.solve(df,x)\n",
        "c"
      ],
      "metadata": {
        "colab": {
          "base_uri": "https://localhost:8080/"
        },
        "id": "iRiaOeXFw3Db",
        "outputId": "abe8eaea-5ba2-4645-b2ad-a7e8bd822a41"
      },
      "id": "iRiaOeXFw3Db",
      "execution_count": null,
      "outputs": [
        {
          "output_type": "execute_result",
          "data": {
            "text/plain": [
              "[0, 45]"
            ]
          },
          "metadata": {},
          "execution_count": 112
        }
      ]
    },
    {
      "cell_type": "code",
      "source": [
        "f_num=sym.lambdify(x,f(x),'numpy')\n",
        "x_num=np.linspace(40, 52, 100)\n",
        "y_num=f_num(x_num)\n",
        "plt.plot(x_num,y_num)\n",
        "plt.plot(c[1],f_num(float(c[1])),'rx',ms=10) #Sólo el segundo punto (45) entra en el rango\n",
        "plt.grid()"
      ],
      "metadata": {
        "colab": {
          "base_uri": "https://localhost:8080/",
          "height": 430
        },
        "id": "dL3sEDI6y_mT",
        "outputId": "48b4aa9b-5b02-43c3-f2f0-3eda07890467"
      },
      "id": "dL3sEDI6y_mT",
      "execution_count": null,
      "outputs": [
        {
          "output_type": "display_data",
          "data": {
            "text/plain": [
              "<Figure size 640x480 with 1 Axes>"
            ],
            "image/png": "[encoded data removed]"
          },
          "metadata": {}
        }
      ]
    },
    {
      "cell_type": "markdown",
      "source": [
        "**Resultado:** 45 es un mínimo global cuando $x>0$"
      ],
      "metadata": {
        "id": "2BhxdXVWzr5Z"
      },
      "id": "2BhxdXVWzr5Z"
    },
    {
      "cell_type": "markdown",
      "id": "bd7f30fd",
      "metadata": {
        "id": "bd7f30fd"
      },
      "source": [
        "5. $f(x)=6-2x+\\sqrt{18-2x^2}$, para $-3\\leq x\\leq 3$"
      ]
    },
    {
      "cell_type": "code",
      "execution_count": null,
      "id": "1d255e07",
      "metadata": {
        "colab": {
          "base_uri": "https://localhost:8080/",
          "height": 55
        },
        "id": "1d255e07",
        "outputId": "67f4bc2b-3c8b-477d-a740-87c228642f48"
      },
      "outputs": [
        {
          "output_type": "execute_result",
          "data": {
            "text/plain": [
              "-2*x/sqrt(18 - 2*x**2) - 2"
            ],
            "text/latex": "$\\displaystyle - \\frac{2 x}{\\sqrt{18 - 2 x^{2}}} - 2$"
          },
          "metadata": {},
          "execution_count": 117
        }
      ],
      "source": [
        "def f(x):\n",
        "  return 6-2*x+sym.sqrt(18-2*x**2)\n",
        "df=sym.diff(f(x))\n",
        "df"
      ]
    },
    {
      "cell_type": "code",
      "source": [
        "d2f=df.diff(x)\n",
        "d2f"
      ],
      "metadata": {
        "colab": {
          "base_uri": "https://localhost:8080/",
          "height": 63
        },
        "id": "5ssi-ghq7h89",
        "outputId": "ce148001-8256-4fa4-aa26-beb5c397a86b"
      },
      "id": "5ssi-ghq7h89",
      "execution_count": null,
      "outputs": [
        {
          "output_type": "execute_result",
          "data": {
            "text/plain": [
              "-4*x**2/(18 - 2*x**2)**(3/2) - 2/sqrt(18 - 2*x**2)"
            ],
            "text/latex": "$\\displaystyle - \\frac{4 x^{2}}{\\left(18 - 2 x^{2}\\right)^{\\frac{3}{2}}} - \\frac{2}{\\sqrt{18 - 2 x^{2}}}$"
          },
          "metadata": {},
          "execution_count": 118
        }
      ]
    },
    {
      "cell_type": "code",
      "source": [
        "c=sym.solve(df,x)\n",
        "c, float(c[0])"
      ],
      "metadata": {
        "colab": {
          "base_uri": "https://localhost:8080/"
        },
        "id": "knVuWQwA7k2f",
        "outputId": "158ea8c3-489a-4012-a6a7-4a7a702a8d2e"
      },
      "id": "knVuWQwA7k2f",
      "execution_count": null,
      "outputs": [
        {
          "output_type": "execute_result",
          "data": {
            "text/plain": [
              "([-sqrt(6)], -2.449489742783178)"
            ]
          },
          "metadata": {},
          "execution_count": 120
        }
      ]
    },
    {
      "cell_type": "code",
      "source": [
        "f_num=sym.lambdify(x,f(x),'numpy')\n",
        "x_num=np.linspace(-3, 3, 100)\n",
        "y_num=f_num(x_num)\n",
        "plt.plot(x_num,y_num)\n",
        "plt.plot(c[0],f_num(float(c[0])),'rx',ms=10)\n",
        "plt.grid()"
      ],
      "metadata": {
        "colab": {
          "base_uri": "https://localhost:8080/",
          "height": 435
        },
        "id": "pR0_NR3E7oiJ",
        "outputId": "4ac3f778-7cfc-470b-aa8c-1a977113a66c"
      },
      "id": "pR0_NR3E7oiJ",
      "execution_count": null,
      "outputs": [
        {
          "output_type": "display_data",
          "data": {
            "text/plain": [
              "<Figure size 640x480 with 1 Axes>"
            ],
            "image/png": "[encoded data removed]"
          },
          "metadata": {}
        }
      ]
    },
    {
      "cell_type": "markdown",
      "source": [
        "**Resultado:** $-\\sqrt{6}$ es un máximo global en el rango indicado"
      ],
      "metadata": {
        "id": "cDXhwFRD7_qe"
      },
      "id": "cDXhwFRD7_qe"
    },
    {
      "cell_type": "markdown",
      "id": "de2ea1f9",
      "metadata": {
        "id": "de2ea1f9"
      },
      "source": [
        "6. $f(x)=\\frac{1}{4}x^4+\\frac{1}{3}x^3-x^2$ en el intervalo $[-3,1.7]$"
      ]
    },
    {
      "cell_type": "code",
      "execution_count": null,
      "id": "084657cf",
      "metadata": {
        "colab": {
          "base_uri": "https://localhost:8080/",
          "height": 39
        },
        "id": "084657cf",
        "outputId": "6796e34b-eeb8-4588-ce9f-03bbfafd4398"
      },
      "outputs": [
        {
          "output_type": "execute_result",
          "data": {
            "text/plain": [
              "1.0*x**3 + 1.0*x**2 - 2*x"
            ],
            "text/latex": "$\\displaystyle 1.0 x^{3} + 1.0 x^{2} - 2 x$"
          },
          "metadata": {},
          "execution_count": 127
        }
      ],
      "source": [
        "def f(x):\n",
        "  return 1/4*x**4+1/3*x**3-x**2\n",
        "df=sym.diff(f(x))\n",
        "df"
      ]
    },
    {
      "cell_type": "code",
      "source": [
        "d2f=df.diff(x)\n",
        "d2f"
      ],
      "metadata": {
        "colab": {
          "base_uri": "https://localhost:8080/",
          "height": 39
        },
        "id": "ndwV8eIYFYSq",
        "outputId": "67456587-5100-45b6-87c1-e95150e3db21"
      },
      "id": "ndwV8eIYFYSq",
      "execution_count": null,
      "outputs": [
        {
          "output_type": "execute_result",
          "data": {
            "text/plain": [
              "3.0*x**2 + 2.0*x - 2"
            ],
            "text/latex": "$\\displaystyle 3.0 x^{2} + 2.0 x - 2$"
          },
          "metadata": {},
          "execution_count": 128
        }
      ]
    },
    {
      "cell_type": "code",
      "source": [
        "c=sym.solve(df,x)\n",
        "c"
      ],
      "metadata": {
        "colab": {
          "base_uri": "https://localhost:8080/"
        },
        "id": "n64VrdJ4FZxN",
        "outputId": "8e485dfd-a13f-4bd9-eb87-46dca974a11a"
      },
      "id": "n64VrdJ4FZxN",
      "execution_count": null,
      "outputs": [
        {
          "output_type": "execute_result",
          "data": {
            "text/plain": [
              "[-2.00000000000000, 0.0, 1.00000000000000]"
            ]
          },
          "metadata": {},
          "execution_count": 129
        }
      ]
    },
    {
      "cell_type": "code",
      "source": [
        "f_num=sym.lambdify(x,f(x),'numpy')\n",
        "x_num=np.linspace(-3, 1.7, 100)\n",
        "y_num=f_num(x_num)\n",
        "plt.plot(x_num,y_num)\n",
        "plt.plot(c[0],f_num(float(c[0])),'rx',ms=10)\n",
        "plt.plot(c[1],f_num(float(c[1])),'rx',ms=10)\n",
        "plt.plot(c[2],f_num(float(c[2])),'rx',ms=10)\n",
        "plt.grid()"
      ],
      "metadata": {
        "colab": {
          "base_uri": "https://localhost:8080/",
          "height": 430
        },
        "id": "MquugWzqFdk9",
        "outputId": "58c487bf-9955-4eb8-d66a-34577d6d2eaf"
      },
      "id": "MquugWzqFdk9",
      "execution_count": null,
      "outputs": [
        {
          "output_type": "display_data",
          "data": {
            "text/plain": [
              "<Figure size 640x480 with 1 Axes>"
            ],
            "image/png": "[encoded data removed]"
          },
          "metadata": {}
        }
      ]
    },
    {
      "cell_type": "markdown",
      "source": [
        "**Respuesta:** $-2$ es un mínimo global, $0$ es un máximo local y $1$ es un mínimo local"
      ],
      "metadata": {
        "id": "85SiXi1xF487"
      },
      "id": "85SiXi1xF487"
    },
    {
      "cell_type": "markdown",
      "id": "4fdfe534",
      "metadata": {
        "id": "4fdfe534"
      },
      "source": [
        "7. $f(x)=100(1+\\cos(x)\\sin(x))$, para $x\\in[0.\\frac{\\pi}{2}]$"
      ]
    },
    {
      "cell_type": "code",
      "execution_count": 134,
      "id": "354e304b",
      "metadata": {
        "id": "354e304b",
        "colab": {
          "base_uri": "https://localhost:8080/",
          "height": 39
        },
        "outputId": "08c4e0f8-76e5-414a-e8ce-a6b43e6c94b1"
      },
      "outputs": [
        {
          "output_type": "execute_result",
          "data": {
            "text/plain": [
              "-100*sin(x)**2 + 100*cos(x)**2"
            ],
            "text/latex": "$\\displaystyle - 100 \\sin^{2}{\\left(x \\right)} + 100 \\cos^{2}{\\left(x \\right)}$"
          },
          "metadata": {},
          "execution_count": 134
        }
      ],
      "source": [
        "def f(x):\n",
        "  return 100*(1+sym.cos(x)*sym.sin(x))\n",
        "df=sym.diff(f(x))\n",
        "df"
      ]
    },
    {
      "cell_type": "code",
      "source": [
        "d2f=df.diff(x)\n",
        "d2f"
      ],
      "metadata": {
        "colab": {
          "base_uri": "https://localhost:8080/",
          "height": 39
        },
        "id": "2doYq9K3HKuq",
        "outputId": "9ec5b01b-4966-4ea6-dbc6-2904b24d85c8"
      },
      "id": "2doYq9K3HKuq",
      "execution_count": 135,
      "outputs": [
        {
          "output_type": "execute_result",
          "data": {
            "text/plain": [
              "-400*sin(x)*cos(x)"
            ],
            "text/latex": "$\\displaystyle - 400 \\sin{\\left(x \\right)} \\cos{\\left(x \\right)}$"
          },
          "metadata": {},
          "execution_count": 135
        }
      ]
    },
    {
      "cell_type": "code",
      "source": [
        "c=sym.solve(df,x)\n",
        "c"
      ],
      "metadata": {
        "colab": {
          "base_uri": "https://localhost:8080/"
        },
        "id": "r7QsYR3bHF7M",
        "outputId": "64da605b-0f5f-4bb7-ae57-944291d02226"
      },
      "id": "r7QsYR3bHF7M",
      "execution_count": 136,
      "outputs": [
        {
          "output_type": "execute_result",
          "data": {
            "text/plain": [
              "[-pi/4, pi/4]"
            ]
          },
          "metadata": {},
          "execution_count": 136
        }
      ]
    },
    {
      "cell_type": "code",
      "source": [
        "f_num=sym.lambdify(x,f(x),'numpy')\n",
        "x_num=np.linspace(0,np.pi/2, 100)\n",
        "y_num=f_num(x_num)\n",
        "plt.plot(x_num,y_num)\n",
        "plt.plot(c[1],f_num(float(c[1])),'rx',ms=10) #sólo el segundo punto crítico está dentro del rango\n",
        "plt.grid()"
      ],
      "metadata": {
        "colab": {
          "base_uri": "https://localhost:8080/",
          "height": 430
        },
        "id": "JNPKkXFWHZCo",
        "outputId": "5a72d109-c475-4087-e426-0e594933576b"
      },
      "id": "JNPKkXFWHZCo",
      "execution_count": 142,
      "outputs": [
        {
          "output_type": "display_data",
          "data": {
            "text/plain": [
              "<Figure size 640x480 with 1 Axes>"
            ],
            "image/png": "[encoded data removed]"
          },
          "metadata": {}
        }
      ]
    },
    {
      "cell_type": "markdown",
      "source": [
        "**Respuesta:** $\\frac{\\pi}{4}$ es un máximo global cuando $x\\in[0,\\frac{\\pi}{2}]$"
      ],
      "metadata": {
        "id": "YmSDbwdQHm2N"
      },
      "id": "YmSDbwdQHm2N"
    }
  ],
  "metadata": {
    "kernelspec": {
      "display_name": "Python 3",
      "language": "python",
      "name": "python3"
    },
    "language_info": {
      "codemirror_mode": {
        "name": "ipython",
        "version": 3
      },
      "file_extension": ".py",
      "mimetype": "text/x-python",
      "name": "python",
      "nbconvert_exporter": "python",
      "pygments_lexer": "ipython3",
      "version": "3.8.8"
    },
    "colab": {
      "provenance": [],
      "include_colab_link": true
    }
  },
  "nbformat": 4,
  "nbformat_minor": 5
}